{
 "cells": [
  {
   "cell_type": "code",
   "execution_count": 1,
   "metadata": {},
   "outputs": [
    {
     "data": {
      "text/plain": [
       "2"
      ]
     },
     "execution_count": 1,
     "metadata": {},
     "output_type": "execute_result"
    }
   ],
   "source": [
    "# 만들어야 하는 숫자 num\n",
    "# 카드에 적힌 숫자들이 담겨있는 배열 cards가 매개변수로 주어질 때\n",
    "# num을 만드는 데 필요한 카드의 개수의 최솟값을 return해라.\n",
    "\n",
    "# cards의 원소는 오름차순으로 정렬되어 주어진다.;\n",
    "# 중복된 수는 들어있지 않다.\n",
    "\n",
    "# cards의 각 숫자가 적힌 카드는 무한히 많다고 가정한다.\n",
    "# num을 만들 방법이 존재하지 않으면 return -1한다.\n",
    "\n",
    "def solution(scoville, K):\n",
    "    count = 0 \n",
    "    scoville = sorted(scoville)  \n",
    "    while(scoville[0]<K):  \n",
    "            new_sc = scoville[0]+(scoville[1]*2) \n",
    "            count += 1 \n",
    "            del scoville[0:2] \n",
    "            scoville.append(new_sc) \n",
    "            scoville = sorted(scoville)\n",
    "            if(len(scoville) == 1 and scoville[0]<K): \n",
    "                return -1\n",
    "\n",
    "    answer = count\n",
    "    return answer\n",
    "\n",
    "solution([1, 2, 3, 9, 10, 12], 7)"
   ]
  },
  {
   "cell_type": "code",
   "execution_count": 21,
   "metadata": {},
   "outputs": [
    {
     "name": "stdout",
     "output_type": "stream",
     "text": [
      "[(1,), (4,), (6,)]\n",
      "[(1, 4), (1, 6), (4, 1), (4, 6), (6, 1), (6, 4)]\n",
      "[(1, 4, 6), (1, 6, 4), (4, 1, 6), (4, 6, 1), (6, 1, 4), (6, 4, 1)]\n"
     ]
    },
    {
     "data": {
      "text/plain": [
       "0"
      ]
     },
     "execution_count": 21,
     "metadata": {},
     "output_type": "execute_result"
    }
   ],
   "source": [
    "from itertools import permutations\n",
    "\n",
    "def solution(num, cards):\n",
    "    for i in cards:\n",
    "        sum = \n",
    "    \n",
    "    answer =0\n",
    "    return answer\n",
    "\n",
    "solution(8,[1,4,6])"
   ]
  },
  {
   "cell_type": "code",
   "execution_count": null,
   "metadata": {},
   "outputs": [],
   "source": []
  }
 ],
 "metadata": {
  "kernelspec": {
   "display_name": "Python 3",
   "language": "python",
   "name": "python3"
  },
  "language_info": {
   "codemirror_mode": {
    "name": "ipython",
    "version": 3
   },
   "file_extension": ".py",
   "mimetype": "text/x-python",
   "name": "python",
   "nbconvert_exporter": "python",
   "pygments_lexer": "ipython3",
   "version": "3.8.0"
  }
 },
 "nbformat": 4,
 "nbformat_minor": 4
}
