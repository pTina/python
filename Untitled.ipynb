{
 "cells": [
  {
   "cell_type": "code",
   "execution_count": 19,
   "metadata": {},
   "outputs": [
    {
     "name": "stdout",
     "output_type": "stream",
     "text": [
      "[[8, 0], [7, 0]]\n"
     ]
    },
    {
     "data": {
      "text/plain": [
       "0"
      ]
     },
     "execution_count": 19,
     "metadata": {},
     "output_type": "execute_result"
    }
   ],
   "source": [
    "# 창구 수를 설정합니다.\n",
    "# 고객별로 대기 번호를 받은 시간과 상담에 걸리는 시간을 설정합니다.\n",
    "# 생성된 데이터를 이용해 상담 처리 과정을 시뮬레이션 합니다.\n",
    "\n",
    "# 대기 번호 받은 고객은 상담 창구가 비어있다면 대기 시간 없이 즉시 상담을 받는다.\n",
    "# 빈 창구가 없다면 빈 창구가 생길 때까지 기다린다.\n",
    "# 상담 시간이 끝나면 고객은 돌아가고 빈 창구가 하나 생긴다.\n",
    "\n",
    "# 시각은 0초부터 시작하고 모든 시간은 초단위를 사용한다.\n",
    "# 상담이 끝나 창구가 비면 즉시 다음 상담 업무를 처리한다.\n",
    "\n",
    "# 전체 고객의 대기시간 합이 얼마인지 구하려한다.\n",
    "\n",
    "# 상담 창구 개수 N\n",
    "# 고객이 대기 번호를 받은 시각과 상담 시간이 담긴 2차원 배열 simulation_data \n",
    "# 매개변수로 주어질 때,\n",
    "# 고객들이 대기 번호를 받은 후 창구에 배정되기까지 기다린 시간의 총 합을 return\n",
    "\n",
    "# simulation_data는 가로2 세로가 1이상 500이하인 2차원 배열\n",
    "# simulation_data[대기 번호를 받은 시각, 상담 시간]\n",
    "# 상담 시간은 1이상 600이하인 정수\n",
    "# 데이터는 대기 번호를 받은 시각 순서로 정렬되어 있음\n",
    "# 대기 번호를 받은 시각이 중복되는 경우는 없다.\n",
    "\n",
    "def window(w_array):\n",
    "    array = []\n",
    "    for i in range(len(w_array)):\n",
    "        array.append(w_array[i][0])\n",
    "    return(array.index(min(array)))\n",
    "\n",
    "def solution(N, simulation_data):\n",
    "    w_array = [[0 for j in range(N)] for i in range(2)]\n",
    "    \n",
    "    for i, j in simulation_data:\n",
    "        w_array[window(w_array)][0] = i+j\n",
    "        if(w_array[])\n",
    "        \n",
    "    print(w_array)\n",
    "        \n",
    "    answer = 0\n",
    "    return answer\n",
    "\n",
    "solution(2, [[0, 3], [2, 5], [4, 2], [5, 3]])\n",
    "\n"
   ]
  },
  {
   "cell_type": "code",
   "execution_count": null,
   "metadata": {},
   "outputs": [],
   "source": []
  }
 ],
 "metadata": {
  "kernelspec": {
   "display_name": "Python 3",
   "language": "python",
   "name": "python3"
  },
  "language_info": {
   "codemirror_mode": {
    "name": "ipython",
    "version": 3
   },
   "file_extension": ".py",
   "mimetype": "text/x-python",
   "name": "python",
   "nbconvert_exporter": "python",
   "pygments_lexer": "ipython3",
   "version": "3.8.0"
  }
 },
 "nbformat": 4,
 "nbformat_minor": 4
}
