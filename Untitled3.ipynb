{
 "cells": [
  {
   "cell_type": "code",
   "execution_count": 2,
   "metadata": {},
   "outputs": [
    {
     "name": "stdout",
     "output_type": "stream",
     "text": [
      "대한민국,서울,아시아\n",
      "일본,동경,아시아\n",
      "중국,베이징,아시아\n",
      "영국,런던,유럽\n",
      "프랑스,파리,유럽\n",
      "\n"
     ]
    }
   ],
   "source": [
    "# 들여쓰기 된 부분부터 실행 블록\n",
    "# 실행 블록이 종료되면 컨텍스트 매니저는 파일을 자동으로 클로저 하게됨\n",
    "with open(file='country.txt', mode='r', encoding = 'utf8') as file:\n",
    "    print(file.read());"
   ]
  },
  {
   "cell_type": "code",
   "execution_count": 6,
   "metadata": {},
   "outputs": [
    {
     "name": "stdout",
     "output_type": "stream",
     "text": [
      "True\n"
     ]
    }
   ],
   "source": [
    "# 파일 오브젝트는 closed 프로퍼티 가지고 있음\n",
    "# file.closed -> true : 파일이 잘 닫혔음\n",
    "print(file.closed)"
   ]
  },
  {
   "cell_type": "code",
   "execution_count": 11,
   "metadata": {},
   "outputs": [
    {
     "name": "stdout",
     "output_type": "stream",
     "text": [
      "대한민국\n",
      ",\n",
      "서\n"
     ]
    }
   ],
   "source": [
    "# read(n) -> 파라미터 n은 정수를 입력받음\n",
    "# n개의 텍스트 추출함\n",
    "# 파일 오브젝트는 내부적으로 커서가 작동하여 파일을 오픈하면 첫 부분에 위치시킴\n",
    "# read메소드 실행하면 n만큼 커서 이용하면서 텍스트를 읽게 됨\n",
    "# read(4) 실행 후 또 함수 실행하면 4번 이동 후의 커서 위치에서 읽게됨\n",
    "with open(file='country.txt', mode='r', encoding = 'utf8') as file:\n",
    "    print(file.read(4))\n",
    "    print(file.read(1))\n",
    "    print(file.read(1))"
   ]
  },
  {
   "cell_type": "code",
   "execution_count": 13,
   "metadata": {},
   "outputs": [
    {
     "name": "stdout",
     "output_type": "stream",
     "text": [
      "대한민국,서울,아시아\n",
      "일본,동경,아시아\n",
      "중국,베이징,아시아\n",
      "영국,런던,유럽\n",
      "프랑스,파리,유럽\n",
      "\n",
      "대한민국,서울,아시아\n",
      "일본,동경,아시아\n",
      "중국,베이징,아시아\n",
      "영국,런던,유럽\n",
      "프랑스,파리,유럽\n",
      "\n"
     ]
    }
   ],
   "source": [
    "# read()를 두 번 연속 실행 => 1번만 출력됨\n",
    "# 첫 번째 read()실행 => 커서가 파일 마지막에 위치하게 됨\n",
    "# 그 상태에서 read() 또 실행 => 더이상 읽을 텍스트 없음! => 아무것도 리턴하지 하지 않고 종료\n",
    "with open(file='country.txt', mode='r', encoding = 'utf8') as file:\n",
    "    print(file.read())\n",
    "#     seek(0) => 커서 위치가 파일의 맨 앞으로 이동\n",
    "    file.seek(0)    \n",
    "    print(file.read())\n"
   ]
  },
  {
   "cell_type": "code",
   "execution_count": 14,
   "metadata": {},
   "outputs": [
    {
     "name": "stdout",
     "output_type": "stream",
     "text": [
      "['대한민국,서울,아시아\\n', '일본,동경,아시아\\n', '중국,베이징,아시아\\n', '영국,런던,유럽\\n', '프랑스,파리,유럽\\n']\n"
     ]
    }
   ],
   "source": [
    "# readlines() => 모든 줄을 리스트의 아이템으로 저장하여\n",
    "# 전체 파일의 텍스트를 하나의 리스트로 만들어 리턴\n",
    "# 사용이유: 루핑을 돌면서 데이터를 처리하기 위함\n",
    "with open(file='country.txt', mode='r', encoding = 'utf8') as file:\n",
    "    print(file.readlines())"
   ]
  },
  {
   "cell_type": "code",
   "execution_count": 16,
   "metadata": {},
   "outputs": [
    {
     "name": "stdout",
     "output_type": "stream",
     "text": [
      "대한민국,서울,아시아\n",
      "일본,동경,아시아\n",
      "중국,베이징,아시아\n",
      "영국,런던,유럽\n",
      "프랑스,파리,유럽\n"
     ]
    }
   ],
   "source": [
    "# print() => 자동 줄바꿈\n",
    "# print(line, end='') 프린트함수의 end 파라미터에 빈 문자열 전달 -> 줄바꿈 하지 않음\n",
    "with open(file='country.txt', mode='r', encoding = 'utf8') as file:\n",
    "    for line in file.readlines():\n",
    "        print(line,end='')"
   ]
  },
  {
   "cell_type": "code",
   "execution_count": 18,
   "metadata": {},
   "outputs": [
    {
     "name": "stdout",
     "output_type": "stream",
     "text": [
      "['대한민국', '서울', '아시아']\n",
      "['일본', '동경', '아시아']\n",
      "['중국', '베이징', '아시아']\n",
      "['영국', '런던', '유럽']\n",
      "['프랑스', '파리', '유럽']\n"
     ]
    }
   ],
   "source": [
    "# 지역별로 나라 필터링\n",
    "with open(file='country.txt', mode='r', encoding = 'utf8') as file:\n",
    "    for line in file.readlines():\n",
    "#         각 줄의 문자열을 ,(콤마) 기준으로 나누기\n",
    "#         strip() => 문자열의 양 끝에 존재하는 공백과 \\n을 제거함\n",
    "        country = line.strip().split(',')\n",
    "        print(country)"
   ]
  },
  {
   "cell_type": "code",
   "execution_count": 28,
   "metadata": {},
   "outputs": [
    {
     "name": "stdout",
     "output_type": "stream",
     "text": [
      "국가: 대한민국, 수도: 서울, 지역: 아시아\n",
      "국가: 일본, 수도: 동경, 지역: 아시아\n",
      "국가: 중국, 수도: 베이징, 지역: 아시아\n"
     ]
    }
   ],
   "source": [
    "# 포메팅 => 문자열을 더 잘 표한하기 위한 방법 (내 생각: 문자열을 보기 쉽게 만들어주기 위한 방법)\n",
    "# str.format()\n",
    "# {} (중괄호)를 사용하는 방법. {}에 대입할 것을 입력한다.\n",
    "\n",
    "with open(file='country.txt', mode='r', encoding = 'utf8') as file:\n",
    "    for line in file.readlines():\n",
    "        country = line.strip().split(',')\n",
    "#         지역이름이 '아시아'인 것만 출력하기\n",
    "#         array[-1] => array의 오른쪽에서 첫번째 값(마지막값)\n",
    "        if country[-1] == '아시아':\n",
    "            print('국가: {}, 수도: {}, 지역: {}'.format(*country))\n",
    "            \n"
   ]
  },
  {
   "cell_type": "code",
   "execution_count": 29,
   "metadata": {},
   "outputs": [
    {
     "name": "stdout",
     "output_type": "stream",
     "text": [
      "대한민국,서울,아시아\n",
      "일본,동경,아시아\n",
      "중국,베이징,아시아\n",
      "영국,런던,유럽\n",
      "프랑스,파리,유럽\n"
     ]
    }
   ],
   "source": [
    "# read() or readlines() 함수 사용 한계\n",
    "# 파일 안의 모든 텍스트를 메모리에 저장하게 됨\n",
    "# 사이즈를 큰 파일을 열게 되면\n",
    "# => 메모리 리소스 낭비 + 프로그램 퍼포먼스 감소\n",
    "# => 파일 하나를 열 때 몇 기가 소모, 느림\n",
    "# => 작은 파일 열 때만 유용\n",
    "# file 오브젝트는 for loop에서 직접 사용 가능\n",
    "# => 한 번 루프 돌 때마다 텍스트를 한 줄씩 리턴\n",
    "\n",
    "# read() 메소드 사용하기\n",
    "with open(file='country.txt', mode='r', encoding = 'utf8') as file:\n",
    "    text= file.read()\n",
    "    for line in text.splitlines():\n",
    "        print(line)\n",
    "\n",
    "# file 오브젝트를 for loop에서 직접 사용하기 => 메모리 사용 감소 + 실행시간 단축\n",
    "with open(file='country.txt', mode='r', encoding = 'utf8') as file:\n",
    "    for line in file:\n",
    "        print(line, end='')\n",
    "        \n",
    "\n",
    "\n"
   ]
  },
  {
   "cell_type": "code",
   "execution_count": null,
   "metadata": {},
   "outputs": [],
   "source": []
  }
 ],
 "metadata": {
  "kernelspec": {
   "display_name": "Python 3",
   "language": "python",
   "name": "python3"
  },
  "language_info": {
   "codemirror_mode": {
    "name": "ipython",
    "version": 3
   },
   "file_extension": ".py",
   "mimetype": "text/x-python",
   "name": "python",
   "nbconvert_exporter": "python",
   "pygments_lexer": "ipython3",
   "version": "3.8.0"
  }
 },
 "nbformat": 4,
 "nbformat_minor": 4
}
