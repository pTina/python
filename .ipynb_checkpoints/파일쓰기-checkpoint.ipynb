{
 "cells": [
  {
   "cell_type": "code",
   "execution_count": 15,
   "metadata": {},
   "outputs": [
    {
     "name": "stdout",
     "output_type": "stream",
     "text": [
      "line one\n",
      "line two\n"
     ]
    }
   ],
   "source": [
    "# 파일쓰기\n",
    "# write() 메소드 사용\n",
    "# 자동 줄바꿈 x => \\n 넣어 해주어야 함\n",
    "\n",
    "# 코드를 다시 실행할 때마다 저장된 텍스트는 지워지고 새로운 텍스트가 입력됨\n",
    "# 동일한 이름의 파일 존재 => 새로운 텍스트로 덮어쓰기\n",
    "# 동일한 이름의 파일 존재하지 않으면 => 새로파일생성\n",
    "\n",
    "with open('filewrite.txt','w',encoding='utf8') as file:\n",
    "    file.write('line one\\n')\n",
    "    file.write('line two\\n')    \n",
    "\n",
    "with open('filewrite.txt','r',encoding='utf8') as file:\n",
    "    for line in file:\n",
    "        print(line,end='')\n",
    "    "
   ]
  },
  {
   "cell_type": "code",
   "execution_count": 26,
   "metadata": {},
   "outputs": [
    {
     "name": "stdout",
     "output_type": "stream",
     "text": [
      "line 1\n",
      "line 2\n",
      "\n"
     ]
    }
   ],
   "source": [
    "# print() 메소드\n",
    "# end='\\n' => end 파라미터의 디폴트 값으로 \\n(newline) 갖고 있음=> 자동줄바꿈이 됨\n",
    "# file 파라미터의 디폴트 값으로 sys.stdout 갖고 있음\n",
    "# stdout(:stnadard out) => 터미널, 콘솔 \n",
    "# file =. file => 파일 파라미터에 인수로 파일오브젝트를 전달하면 콘솔이나 터미널이 아닌 파일에 쓰여짐\n",
    "\n",
    "with open('filewrite.txt','w',encoding='utf8') as file:\n",
    "    print('line 1',file = file)\n",
    "    print('line 2',file = file)\n",
    "\n",
    "with open('filewrite.txt','r',encoding='utf8') as file:\n",
    "    print(file.read())\n"
   ]
  },
  {
   "cell_type": "code",
   "execution_count": 25,
   "metadata": {},
   "outputs": [
    {
     "name": "stdout",
     "output_type": "stream",
     "text": [
      "이름: 박가은, 직급: 사원, 성별:여자\n",
      "이름: 기세현, 직급: 사원, 성별:남자\n",
      "이름: 정하영, 직급: 사원, 성별:여자\n",
      "이름: 이도윤, 직급: 사장, 성별:여자\n",
      "\n"
     ]
    }
   ],
   "source": [
    "# 딕셔너리 값을 파일에 써보기\n",
    "people = [\n",
    "    {'이름':'박가은','직급':'사원','성별':'여자'},\n",
    "    {'이름':'기세현','직급':'사원','성별':'남자'},\n",
    "    {'이름':'정하영','직급':'사원','성별':'여자'},\n",
    "    {'이름':'이도윤','직급':'사장','성별':'여자'}\n",
    "]\n",
    "\n",
    "# 파라미터 값을 정의된 순서대로 전달한다면 파라미터의 값은 생략 가능\n",
    "with open('people.txt','w',encoding='utf8') as file:\n",
    "    for person in people:\n",
    "        line='이름: {이름}, 직급: {직급}, 성별:{성별}\\n'.format(**person)\n",
    "        file.write(line)\n",
    "        \n",
    "with open('people.txt','r',encoding='utf8') as file:\n",
    "    print(file.read())\n"
   ]
  },
  {
   "cell_type": "code",
   "execution_count": 28,
   "metadata": {},
   "outputs": [
    {
     "name": "stdout",
     "output_type": "stream",
     "text": [
      "[{'이름': '박가은', '직급': '사원', '성별': '여자'}, {'이름': '기세현', '직급': '사원', '성별': '남자'}, {'이름': '정하영', '직급': '사원', '성별': '여자'}, {'이름': '이도윤', '직급': '사장', '성별': '여자'}]\n",
      "<class 'str'>\n"
     ]
    }
   ],
   "source": [
    "# 프로그램에서 정의한 리스트 or 딕셔너리를 그대로 저장하고 사용하고 싶은 경우\n",
    "# str()함수 사용하여 저장하고 싶은 오브젝트를 문자열로 변환하여 저장한다.\n",
    "\n",
    "people = [\n",
    "    {'이름':'박가은','직급':'사원','성별':'여자'},\n",
    "    {'이름':'기세현','직급':'사원','성별':'남자'},\n",
    "    {'이름':'정하영','직급':'사원','성별':'여자'},\n",
    "    {'이름':'이도윤','직급':'사장','성별':'여자'}\n",
    "]\n",
    "\n",
    "with open('people.txt','w',encoding='utf8') as file:\n",
    "    file.write(str(people))\n",
    "        \n",
    "with open('people.txt','r',encoding='utf8') as file:\n",
    "    result = file.read()\n",
    "    print(result)\n",
    "    print(type(result))\n"
   ]
  },
  {
   "cell_type": "code",
   "execution_count": 30,
   "metadata": {},
   "outputs": [
    {
     "name": "stdout",
     "output_type": "stream",
     "text": [
      "{'이름': '박가은', '직급': '사원', '성별': '여자'}\n",
      "{'이름': '기세현', '직급': '사원', '성별': '남자'}\n",
      "{'이름': '정하영', '직급': '사원', '성별': '여자'}\n",
      "{'이름': '이도윤', '직급': '사장', '성별': '여자'}\n",
      "[{'이름': '박가은', '직급': '사원', '성별': '여자'}, {'이름': '기세현', '직급': '사원', '성별': '남자'}, {'이름': '정하영', '직급': '사원', '성별': '여자'}, {'이름': '이도윤', '직급': '사장', '성별': '여자'}]\n",
      "<class 'list'>\n"
     ]
    }
   ],
   "source": [
    "# 문자열을 파일 오브젝트로 변환하여 사용하고 싶은 경우\n",
    "# eval() 함수 사용 => str -> list로 변경됨\n",
    "# 변환 후 리스트로 똑같이 사용할 수 있음\n",
    "people = [\n",
    "    {'이름':'박가은','직급':'사원','성별':'여자'},\n",
    "    {'이름':'기세현','직급':'사원','성별':'남자'},\n",
    "    {'이름':'정하영','직급':'사원','성별':'여자'},\n",
    "    {'이름':'이도윤','직급':'사장','성별':'여자'}\n",
    "]\n",
    "\n",
    "with open('people.txt','w',encoding='utf8') as file:\n",
    "    file.write(str(people))\n",
    "        \n",
    "with open('people.txt','r',encoding='utf8') as file:\n",
    "    result = file.read()\n",
    "    result = eval(result)\n",
    "    \n",
    "    for person in result:\n",
    "        print(person)\n",
    "        \n",
    "    print(result)\n",
    "    print(type(result))\n",
    "    "
   ]
  },
  {
   "cell_type": "code",
   "execution_count": 31,
   "metadata": {},
   "outputs": [
    {
     "ename": "FileExistsError",
     "evalue": "[Errno 17] File exists: 'people.txt'",
     "output_type": "error",
     "traceback": [
      "\u001b[0;31m---------------------------------------------------------------------------\u001b[0m",
      "\u001b[0;31mFileExistsError\u001b[0m                           Traceback (most recent call last)",
      "\u001b[0;32m<ipython-input-31-140fce7f878d>\u001b[0m in \u001b[0;36m<module>\u001b[0;34m\u001b[0m\n\u001b[1;32m      3\u001b[0m \u001b[0;31m# => 실수로 데이터를 날리는 일을 방지할 수 있음\u001b[0m\u001b[0;34m\u001b[0m\u001b[0;34m\u001b[0m\u001b[0;34m\u001b[0m\u001b[0m\n\u001b[1;32m      4\u001b[0m \u001b[0;34m\u001b[0m\u001b[0m\n\u001b[0;32m----> 5\u001b[0;31m \u001b[0;32mwith\u001b[0m \u001b[0mopen\u001b[0m\u001b[0;34m(\u001b[0m\u001b[0;34m'people.txt'\u001b[0m\u001b[0;34m,\u001b[0m\u001b[0;34m'x'\u001b[0m\u001b[0;34m,\u001b[0m\u001b[0mencoding\u001b[0m\u001b[0;34m=\u001b[0m\u001b[0;34m'utf8'\u001b[0m\u001b[0;34m)\u001b[0m \u001b[0;32mas\u001b[0m \u001b[0mfile\u001b[0m\u001b[0;34m:\u001b[0m\u001b[0;34m\u001b[0m\u001b[0;34m\u001b[0m\u001b[0m\n\u001b[0m\u001b[1;32m      6\u001b[0m     \u001b[0mfile\u001b[0m\u001b[0;34m.\u001b[0m\u001b[0mwrite\u001b[0m\u001b[0;34m(\u001b[0m\u001b[0;34m'새로운 데이터'\u001b[0m\u001b[0;34m)\u001b[0m\u001b[0;34m\u001b[0m\u001b[0;34m\u001b[0m\u001b[0m\n",
      "\u001b[0;31mFileExistsError\u001b[0m: [Errno 17] File exists: 'people.txt'"
     ]
    }
   ],
   "source": [
    "# mode = 'x' => w모드의 안전모드\n",
    "# 같은 이름의 파일이 있으면 에러 발생\n",
    "# => 실수로 데이터를 날리는 일을 방지할 수 있음\n",
    "\n",
    "with open('people.txt','x',encoding='utf8') as file:\n",
    "    file.write('새로운 데이터')"
   ]
  },
  {
   "cell_type": "code",
   "execution_count": 34,
   "metadata": {},
   "outputs": [
    {
     "name": "stdout",
     "output_type": "stream",
     "text": [
      "[{'이름': '박가은', '직급': '사원', '성별': '여자'}, {'이름': '기세현', '직급': '사원', '성별': '남자'}, {'이름': '정하영', '직급': '사원', '성별': '여자'}, {'이름': '이도윤', '직급': '사장', '성별': '여자'}]\n",
      "새로운 데이터\n"
     ]
    }
   ],
   "source": [
    "# mode = 'a' => 추가모드\n",
    "# 같은 이름 파일 존재X => 새로운 파일 생성\n",
    "# 같은 이름 파일 존재O => 파일이 열리면서 커서가 파일의 가장 끝부분에 위치하게 되고 그 위치에서 부터 이어쓰기됨\n",
    "\n",
    "# 파일에 줄바꿈이 되어있는지 확인 후 줄바꿈이 되어있지 않으면 new line 추가해야함\n",
    "\n",
    "with open('people.txt','a',encoding='utf8') as file:\n",
    "    file.write('\\n새로운 데이터')\n",
    "    \n",
    "with open('people.txt','r',encoding='utf8') as file:\n",
    "    print(file.read())\n",
    "    \n",
    "     "
   ]
  },
  {
   "cell_type": "code",
   "execution_count": null,
   "metadata": {},
   "outputs": [],
   "source": []
  }
 ],
 "metadata": {
  "kernelspec": {
   "display_name": "Python 3",
   "language": "python",
   "name": "python3"
  },
  "language_info": {
   "codemirror_mode": {
    "name": "ipython",
    "version": 3
   },
   "file_extension": ".py",
   "mimetype": "text/x-python",
   "name": "python",
   "nbconvert_exporter": "python",
   "pygments_lexer": "ipython3",
   "version": "3.8.0"
  }
 },
 "nbformat": 4,
 "nbformat_minor": 4
}
